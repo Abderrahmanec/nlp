{
 "cells": [
  {
   "cell_type": "markdown",
   "metadata": {},
   "source": [
    "# Import the necessary library for sentiment analysis\n",
    "from textblob import TextBlob\n",
    "\n",
    "# Step 1: Read the content of the 'sentiment_analysis.txt' file\n",
    "with open('datasets/sentiment_analysis.txt', 'r', encoding='utf-8') as file:\n",
    "    text = file.read()\n",
    "\n",
    "# Step 2: Perform Sentiment Analysis using TextBlob\n",
    "blob = TextBlob(text)\n",
    "\n",
    "# Step 3: Get the sentiment polarity and subjectivity\n",
    "sentiment = blob.sentiment\n",
    "polarity = sentiment.polarity\n",
    "subjectivity = sentiment.subjectivity\n",
    "\n",
    "# Prepare the result to save in a new file\n",
    "result = f\"Sentiment Analysis Results:\\n\\nText: {text}\\n\\nPolarity: {polarity}\\nSubjectivity: {subjectivity}\"\n",
    "\n",
    "# Step 4: Save the result to save the result in the 'datasets' folder\n",
    "with open('datasets/sentiment_analysis_result.txt', 'w', encoding='utf-8') as result_file:\n",
    "    result_file.write(result)\n",
    "\n",
    "print(\"Sentiment analysis result has been saved to 'datasets/sentiment_analysis_result.txt'.\")\n",
    "\n",
    "\n",
    "# Step 5: Print confirmation message\n",
    "print(\"Sentiment analysis result has been saved to 'sentiment_analysis_result.txt'.\")\n"
   ]
  }
 ],
 "metadata": {
  "language_info": {
   "name": "python"
  }
 },
 "nbformat": 4,
 "nbformat_minor": 2
}
